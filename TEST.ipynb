{
 "cells": [
  {
   "cell_type": "code",
   "execution_count": 19,
   "id": "b8deee66",
   "metadata": {},
   "outputs": [
    {
     "name": "stdout",
     "output_type": "stream",
     "text": [
      "당신은 사용자의 자연어 질문을 해결하기 위해 MCP 도구를 활용하는 시스템입니다.\n",
      "아래는 사용 가능한 도구 목록입니다:\n",
      "\n",
      "A\n",
      "\n",
      "B\n",
      "\n",
      "C\n",
      "\n",
      "이 중 필요한 도구만 선택하여 다음과 같은 JSON 배열 형식으로 반환하세요:\n",
      "[\n",
      "  {\"function_name\": \"get_schema_info\", \"arguments\": {}},\n",
      "  {\"function_name\": \"generate_sql\", \"arguments\": {\"natural_query\": \"...\", \"schema_info\": \"...\" }},\n",
      "  {\"function_name\": \"validate_sql\", \"arguments\": {\"sql\": \"...\" }},\n",
      "  {\"function_name\": \"execute_sql\", \"arguments\": {\"exec_sql\": \"...\" }}\n",
      "]\n",
      "\n",
      "메모리 관련 도구 사용법:\n",
      "- 이전 대화를 조회하려면: get_messages()\n",
      "- 특정 키워드로 대화를 검색하려면: search_messages(keyword)\n",
      "- session_id는 자동으로 추가되므로 생략 가능합니다.\n",
      "\n",
      "만일, 선택된 도구가 없다면 사전에 학습한 지식을 바탕으로 사용자의 질문에 답변하세요.\n"
     ]
    }
   ],
   "source": [
    "str=(\n",
    "        \"당신은 사용자의 자연어 질문을 해결하기 위해 MCP 도구를 활용하는 시스템입니다.\\n\"\n",
    "        \"아래는 사용 가능한 도구 목록입니다:\\n\\n\"\n",
    "        + \"\\n\\n\".join(['A','B','C']) +\n",
    "        \"\\n\\n이 중 필요한 도구만 선택하여 다음과 같은 JSON 배열 형식으로 반환하세요:\\n\"\n",
    "        '''[\n",
    "  {\"function_name\": \"get_schema_info\", \"arguments\": {}},\n",
    "  {\"function_name\": \"generate_sql\", \"arguments\": {\"natural_query\": \"...\", \"schema_info\": \"...\" }},\n",
    "  {\"function_name\": \"validate_sql\", \"arguments\": {\"sql\": \"...\" }},\n",
    "  {\"function_name\": \"execute_sql\", \"arguments\": {\"exec_sql\": \"...\" }}\n",
    "]'''\n",
    "        \"\\n\\n메모리 관련 도구 사용법:\\n\"\n",
    "        \"- 이전 대화를 조회하려면: get_messages()\\n\"\n",
    "        \"- 특정 키워드로 대화를 검색하려면: search_messages(keyword)\\n\"\n",
    "        \"- session_id는 자동으로 추가되므로 생략 가능합니다.\\n\\n\"\n",
    "        \"만일, 선택된 도구가 없다면 사전에 학습한 지식을 바탕으로 사용자의 질문에 답변하세요.\"\n",
    "    )\n",
    "print(str)"
   ]
  }
 ],
 "metadata": {
  "kernelspec": {
   "display_name": "mcp",
   "language": "python",
   "name": "python3"
  },
  "language_info": {
   "codemirror_mode": {
    "name": "ipython",
    "version": 3
   },
   "file_extension": ".py",
   "mimetype": "text/x-python",
   "name": "python",
   "nbconvert_exporter": "python",
   "pygments_lexer": "ipython3",
   "version": "3.13.5"
  }
 },
 "nbformat": 4,
 "nbformat_minor": 5
}
